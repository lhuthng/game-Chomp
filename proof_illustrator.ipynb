{
 "cells": [
  {
   "cell_type": "code",
   "execution_count": 1,
   "metadata": {},
   "outputs": [],
   "source": [
    "from py_core import Board, Evidence, zigzag_iterator, iterator, reverse_iterator\n",
    "from random import choice, sample\n",
    "import matplotlib.pyplot as plt\n",
    "import matplotlib.patches as patches\n",
    "\n",
    "fn = iterator\n",
    "e = Evidence(counter_move=True, trace_back_fn=fn)"
   ]
  },
  {
   "cell_type": "code",
   "execution_count": null,
   "metadata": {},
   "outputs": [],
   "source": [
    "def draw_board(board):\n",
    "    def draw(func, data):\n",
    "        x = [i for i in range(len(data) + 1)]\n",
    "        y = (data[0],) + data\n",
    "        func(x, 0, y, colors='k')\n",
    "    \n",
    "    draw(plt.hlines, board.data)\n",
    "    draw(plt.vlines, board.clone(False)._flip().data)\n",
    "\n",
    "def draw_arrow(board):\n",
    "    result = e.get(board)\n",
    "    pairs = set()\n",
    "    if not result:\n",
    "        print(\"P-position\")\n",
    "        for move in fn(board):\n",
    "            if move in pairs: continue\n",
    "            new = board.chomp(*move, False)\n",
    "            res = e.get(new)\n",
    "            for option in res:\n",
    "                pairs.add(tuple(sorted((move, option))))\n",
    "        l = board.data[0] // 3\n",
    "        for u, v in sorted(pairs):\n",
    "            color = 'black'\n",
    "            u = u[0] + 0.5, u[1] + 0.5\n",
    "            v = v[0] + 0.5, v[1] + 0.5\n",
    "            ax.annotate(\"\", xy=u, xytext=v,arrowprops=dict(arrowstyle=\"<->\", color=color))\n",
    "    else:\n",
    "        print(\"N-position\")\n",
    "        for move in fn(board):\n",
    "            new = board.chomp(*move, False)\n",
    "            res = e.get(new)\n",
    "            if res is False: continue\n",
    "            for option in res:\n",
    "                pairs.add((move, option))\n",
    "        for u, v in pairs:\n",
    "            color = 'black'\n",
    "            u = u[0] + 0.5, u[1] + 0.5\n",
    "            v = v[0] + 0.5, v[1] + 0.5\n",
    "            ax.annotate(\"\", xy=u, xytext=v,arrowprops=dict(arrowstyle=\"<-\", color=color))\n",
    "\n",
    "fig, ax = plt.subplots(figsize=(10, 10))\n",
    "\n",
    "def draw_proof(board):\n",
    "    draw_board(board)\n",
    "    draw_arrow(board)\n",
    "\n",
    "# Edit here !!!!!!!!!\n",
    "draw_proof(Board.from_ideal(\"<(6,0),(2,1),(0,4)>\"))\n",
    "\n",
    "plt.gca().set_aspect('equal', adjustable='box')\n",
    "plt.axis('off')\n",
    "plt.show()"
   ]
  }
 ],
 "metadata": {
  "kernelspec": {
   "display_name": "my-venv",
   "language": "python",
   "name": "python3"
  },
  "language_info": {
   "codemirror_mode": {
    "name": "ipython",
    "version": 3
   },
   "file_extension": ".py",
   "mimetype": "text/x-python",
   "name": "python",
   "nbconvert_exporter": "python",
   "pygments_lexer": "ipython3",
   "version": "3.11.2"
  }
 },
 "nbformat": 4,
 "nbformat_minor": 2
}
